{
 "cells": [
  {
   "cell_type": "markdown",
   "metadata": {},
   "source": [
    "# DNA Transcription and Translation Simulator\n",
    "\n",
    "**Project Purpose**: Simulate DNA to protein synthesis with testing.\n",
    "\n",
    "This notebook simulates the biological processes of **transcription** (DNA to mRNA) and **translation** (mRNA to protein) using Python. It includes a codon table, unit tests, and an interactive interface, showcasing my skills in programming and molecular biology."
   ]
  },
  {
   "cell_type": "markdown",
   "metadata": {},
   "source": [
    "## Transcription and Translation Overview\n",
    "\n",
    "- A gene is transcribed from DNA to mRNA and then translated to a protein (amino acids) in the form of codons (sequences of 3 nucleotides).\n",
    "- **Transcription**: Converting DNA to RNA by replacing thymine (T) with uracil (U).\n",
    "- **Translation**: Converting mRNA to a protein using a codon table to map nucleotide triplets to amino acids."
   ]
  },
  {
   "cell_type": "code",
   "execution_count": 2,
   "metadata": {},
   "outputs": [],
   "source": [
    "import unittest"
   ]
  },
  {
   "cell_type": "markdown",
   "metadata": {},
   "source": [
    "## Codon Table\n",
    "\n",
    "The following dictionary maps RNA codons (3 nucleotides) to their corresponding amino acids. This table is used during translation to determine the protein sequence."
   ]
  },
  {
   "cell_type": "code",
   "execution_count": 3,
   "metadata": {},
   "outputs": [],
   "source": [
    "# DNA Codon Table: Maps RNA codons to amino acids\n",
    "codon_to_amino_acid = {\n",
    "    \"UUU\": \"Phenylalanine\", \"UUC\": \"Phenylalanine\",\n",
    "    \"UUA\": \"Leucine\", \"UUG\": \"Leucine\",\n",
    "    \"UCU\": \"Serine\", \"UCC\": \"Serine\", \"UCA\": \"Serine\", \"UCG\": \"Serine\",\n",
    "    \"UAU\": \"Tyrosine\", \"UAC\": \"Tyrosine\",\n",
    "    \"UAA\": \"STOP\", \"UAG\": \"STOP\", \"UGA\": \"STOP\",\n",
    "    \"UGU\": \"Cysteine\", \"UGC\": \"Cysteine\",\n",
    "    \"UGG\": \"Tryptophan\",\n",
    "    \"CUU\": \"Leucine\", \"CUC\": \"Leucine\", \"CUA\": \"Leucine\", \"CUG\": \"Leucine\",\n",
    "    \"CCU\": \"Proline\", \"CCC\": \"Proline\", \"CCA\": \"Proline\", \"CCG\": \"Proline\",\n",
    "    \"CAU\": \"Histidine\", \"CAC\": \"Histidine\",\n",
    "    \"CAA\": \"Glutamine\", \"CAG\": \"Glutamine\",\n",
    "    \"CGU\": \"Arginine\", \"CGC\": \"Arginine\", \"CGA\": \"Arginine\", \"CGG\": \"Arginine\",\n",
    "    \"AUU\": \"Isoleucine\", \"AUC\": \"Isoleucine\", \"AUA\": \"Isoleucine\",\n",
    "    \"AUG\": \"Methionine\",\n",
    "    \"ACU\": \"Threonine\", \"ACC\": \"Threonine\", \"ACA\": \"Threonine\", \"ACG\": \"Threonine\",\n",
    "    \"AAU\": \"Asparagine\", \"AAC\": \"Asparagine\",\n",
    "    \"AAA\": \"Lysine\", \"AAG\": \"Lysine\",\n",
    "    \"AGU\": \"Serine\", \"AGC\": \"Serine\",\n",
    "    \"AGA\": \"Arginine\", \"AGG\": \"Arginine\",\n",
    "    \"GUU\": \"Valine\", \"GUC\": \"Valine\", \"GUA\": \"Valine\", \"GUG\": \"Valine\",\n",
    "    \"GCU\": \"Alanine\", \"GCC\": \"Alanine\", \"GCA\": \"Alanine\", \"GCG\": \"Alanine\",\n",
    "    \"GAU\": \"Aspartic Acid\", \"GAC\": \"Aspartic Acid\",\n",
    "    \"GAA\": \"Glutamic Acid\", \"GAG\": \"Glutamic Acid\",\n",
    "    \"GGU\": \"Glycine\", \"GGC\": \"Glycine\", \"GGA\": \"Glycine\", \"GGG\": \"Glycine\"\n",
    "}"
   ]
  },
  {
   "cell_type": "markdown",
   "metadata": {},
   "source": [
    "## Core Functions\n",
    "\n",
    "These functions handle the transcription and translation processes:\n",
    "- `transcribe_dna_to_mrna`: Converts DNA to mRNA.\n",
    "- `translate_mrna_to_protein`: Translates mRNA to a protein sequence.\n",
    "- `process_dna_sequence`: Combines both steps into a single workflow."
   ]
  },
  {
   "cell_type": "code",
   "execution_count": 4,
   "metadata": {},
   "outputs": [],
   "source": [
    "def transcribe_dna_to_mrna(dna_sequence):\n",
    "    \"\"\"Transcribe a DNA sequence to mRNA by replacing T with U.\"\"\"\n",
    "    if not isinstance(dna_sequence, str):\n",
    "        raise ValueError(\"DNA sequence must be a string\")\n",
    "    return dna_sequence.replace(\"T\", \"U\")\n",
    "\n",
    "def translate_mrna_to_protein(mrna_sequence):\n",
    "    \"\"\"Translate an mRNA sequence to a protein (list of amino acids).\"\"\"\n",
    "    if not isinstance(mrna_sequence, str) or len(mrna_sequence) < 3:\n",
    "        return []\n",
    "    protein = []\n",
    "    codons = [mrna_sequence[i:i+3] for i in range(0, len(mrna_sequence) - 2, 3)]\n",
    "    for codon in codons:\n",
    "        amino_acid = codon_to_amino_acid.get(codon, \"Unknown\")\n",
    "        if amino_acid == \"STOP\":\n",
    "            break\n",
    "        if amino_acid != \"Unknown\":\n",
    "            protein.append(f\"{amino_acid} ({codon})\")\n",
    "    return protein\n",
    "\n",
    "def process_dna_sequence(dna_sequence):\n",
    "    \"\"\"Process a DNA sequence through transcription and translation.\"\"\"\n",
    "    mrna = transcribe_dna_to_mrna(dna_sequence)\n",
    "    protein = translate_mrna_to_protein(mrna)\n",
    "    return {\"mRNA\": mrna, \"Protein\": protein}"
   ]
  },
  {
   "cell_type": "markdown",
   "metadata": {},
   "source": [
    "## Unit Tests\n",
    "\n",
    "The following tests verify the correctness of transcription, translation, and error handling using Python's `unittest` framework."
   ]
  },
  {
   "cell_type": "code",
   "execution_count": 5,
   "metadata": {},
   "outputs": [
    {
     "name": "stderr",
     "output_type": "stream",
     "text": [
      "....\n",
      "----------------------------------------------------------------------\n",
      "Ran 4 tests in 0.016s\n",
      "\n",
      "OK\n"
     ]
    }
   ],
   "source": [
    "class TestDNATranscriptionTranslation(unittest.TestCase):\n",
    "    def test_transcription(self):\n",
    "        self.assertEqual(transcribe_dna_to_mrna(\"ATGC\"), \"AUGC\")\n",
    "        self.assertEqual(transcribe_dna_to_mrna(\"TTA\"), \"UUA\")\n",
    "        self.assertEqual(transcribe_dna_to_mrna(\"GATTACA\"), \"GAUUACA\")\n",
    "        self.assertEqual(transcribe_dna_to_mrna(\"\"), \"\")\n",
    "\n",
    "    def test_translation(self):\n",
    "        self.assertEqual(translate_mrna_to_protein(\"AUG\"), [\"Methionine (AUG)\"])\n",
    "        self.assertEqual(translate_mrna_to_protein(\"UUU\"), [\"Phenylalanine (UUU)\"])\n",
    "        self.assertEqual(translate_mrna_to_protein(\"UAA\"), [])\n",
    "        self.assertEqual(translate_mrna_to_protein(\"AUGUUUUGA\"), [\"Methionine (AUG)\", \"Phenylalanine (UUU)\"])\n",
    "        self.assertEqual(translate_mrna_to_protein(\"\"), [])\n",
    "\n",
    "    def test_full_process(self):\n",
    "        result = process_dna_sequence(\"ATGTTT\")\n",
    "        self.assertEqual(result[\"mRNA\"], \"AUGUUU\")\n",
    "        self.assertEqual(result[\"Protein\"], [\"Methionine (AUG)\", \"Phenylalanine (UUU)\"])\n",
    "\n",
    "    def test_invalid_input(self):\n",
    "        result = process_dna_sequence(\"XYZ\")\n",
    "        self.assertEqual(result[\"mRNA\"], \"XYZ\")\n",
    "        self.assertEqual(result[\"Protein\"], [])\n",
    "        with self.assertRaises(ValueError):\n",
    "            transcribe_dna_to_mrna(123)\n",
    "\n",
    "# Run tests\n",
    "if __name__ == \"__main__\":\n",
    "    unittest.main(argv=['first-arg-is-ignored'], exit=False)"
   ]
  },
  {
   "cell_type": "markdown",
   "metadata": {},
   "source": [
    "## Interactive Simulation\n",
    "\n",
    "Run the cell below to input a DNA sequence and see the transcription and translation results."
   ]
  },
  {
   "cell_type": "code",
   "execution_count": null,
   "metadata": {},
   "outputs": [
    {
     "name": "stdout",
     "output_type": "stream",
     "text": [
      "DNA Transcription and Translation Simulator\n"
     ]
    }
   ],
   "source": [
    "def simulate_dna_sequence():\n",
    "    \"\"\"Simulate transcription and translation for a single DNA sequence input.\"\"\"\n",
    "    print(\"DNA Transcription and Translation Simulator\")\n",
    "    dna_input = input(\"Enter a DNA sequence (e.g., ATGTTT): \").strip().upper()\n",
    "    \n",
    "    if not dna_input:\n",
    "        print(\"Error: Empty input. Please enter a DNA sequence.\")\n",
    "        return\n",
    "    if not all(base in \"ATGC\" for base in dna_input):\n",
    "        print(\"Invalid DNA sequence! Use only A, T, G, C.\")\n",
    "        return\n",
    "    \n",
    "    try:\n",
    "        result = process_dna_sequence(dna_input)\n",
    "        print(f\"mRNA: {result['mRNA']}\")\n",
    "        print(f\"Protein: {' -> '.join(result['Protein']) if result['Protein'] else 'None'}\")\n",
    "        if len(dna_input) % 3 != 0:\n",
    "            print(\"Note: Sequence length not a multiple of 3; incomplete codons ignored.\")\n",
    "    except ValueError as e:\n",
    "        print(f\"Error: {e}\")\n",
    "\n",
    "# Run the simulation\n",
    "simulate_dna_sequence()"
   ]
  },
  {
   "cell_type": "markdown",
   "metadata": {},
   "source": [
    "**Author**: Almustafa Zein  \n",
    "**Contact**: zein.mursal@gmail.com  \n",
    "**Date**: March 25, 2025"
   ]
  }
 ],
 "metadata": {
  "kernelspec": {
   "display_name": "Python 3",
   "language": "python",
   "name": "python3"
  },
  "language_info": {
   "codemirror_mode": {
    "name": "ipython",
    "version": 3
   },
   "file_extension": ".py",
   "mimetype": "text/x-python",
   "name": "python",
   "nbconvert_exporter": "python",
   "pygments_lexer": "ipython3",
   "version": "3.13.2"
  }
 },
 "nbformat": 4,
 "nbformat_minor": 2
}
